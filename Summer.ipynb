{
  "nbformat": 4,
  "nbformat_minor": 0,
  "metadata": {
    "kernelspec": {
      "display_name": "Python 3",
      "language": "python",
      "name": "python3"
    },
    "language_info": {
      "codemirror_mode": {
        "name": "ipython",
        "version": 3
      },
      "file_extension": ".py",
      "mimetype": "text/x-python",
      "name": "python",
      "nbconvert_exporter": "python",
      "pygments_lexer": "ipython3",
      "version": "3.8.8"
    },
    "colab": {
      "name": "Summer.ipynb",
      "provenance": [],
      "collapsed_sections": []
    }
  },
  "cells": [
    {
      "cell_type": "markdown",
      "metadata": {
        "id": "5jCjRSduYLS-"
      },
      "source": [
        "# Summer Olympics Data Analysis Assignment"
      ]
    },
    {
      "cell_type": "code",
      "metadata": {
        "id": "nBSKrZ1rYLTC"
      },
      "source": [
        "import pandas as pd\n",
        "import numpy as np\n",
        "import matplotlib.pyplot as plt"
      ],
      "execution_count": 11,
      "outputs": []
    },
    {
      "cell_type": "code",
      "metadata": {
        "colab": {
          "base_uri": "https://localhost:8080/",
          "height": 357
        },
        "id": "5Vof6ghLYLTE",
        "outputId": "fee4f4bd-3976-4b74-88e5-17aa98df03b2"
      },
      "source": [
        "df=pd.read_csv(\"summer.csv\")\n",
        "df.head(10)"
      ],
      "execution_count": 13,
      "outputs": [
        {
          "output_type": "execute_result",
          "data": {
            "text/html": [
              "<div>\n",
              "<style scoped>\n",
              "    .dataframe tbody tr th:only-of-type {\n",
              "        vertical-align: middle;\n",
              "    }\n",
              "\n",
              "    .dataframe tbody tr th {\n",
              "        vertical-align: top;\n",
              "    }\n",
              "\n",
              "    .dataframe thead th {\n",
              "        text-align: right;\n",
              "    }\n",
              "</style>\n",
              "<table border=\"1\" class=\"dataframe\">\n",
              "  <thead>\n",
              "    <tr style=\"text-align: right;\">\n",
              "      <th></th>\n",
              "      <th>Year</th>\n",
              "      <th>City</th>\n",
              "      <th>Sport</th>\n",
              "      <th>Discipline</th>\n",
              "      <th>Athlete</th>\n",
              "      <th>Country</th>\n",
              "      <th>Gender</th>\n",
              "      <th>Event</th>\n",
              "      <th>Medal</th>\n",
              "    </tr>\n",
              "  </thead>\n",
              "  <tbody>\n",
              "    <tr>\n",
              "      <th>0</th>\n",
              "      <td>1896</td>\n",
              "      <td>Athens</td>\n",
              "      <td>Aquatics</td>\n",
              "      <td>Swimming</td>\n",
              "      <td>HAJOS, Alfred</td>\n",
              "      <td>HUN</td>\n",
              "      <td>Men</td>\n",
              "      <td>100M Freestyle</td>\n",
              "      <td>Gold</td>\n",
              "    </tr>\n",
              "    <tr>\n",
              "      <th>1</th>\n",
              "      <td>1896</td>\n",
              "      <td>Athens</td>\n",
              "      <td>Aquatics</td>\n",
              "      <td>Swimming</td>\n",
              "      <td>HERSCHMANN, Otto</td>\n",
              "      <td>AUT</td>\n",
              "      <td>Men</td>\n",
              "      <td>100M Freestyle</td>\n",
              "      <td>Silver</td>\n",
              "    </tr>\n",
              "    <tr>\n",
              "      <th>2</th>\n",
              "      <td>1896</td>\n",
              "      <td>Athens</td>\n",
              "      <td>Aquatics</td>\n",
              "      <td>Swimming</td>\n",
              "      <td>DRIVAS, Dimitrios</td>\n",
              "      <td>GRE</td>\n",
              "      <td>Men</td>\n",
              "      <td>100M Freestyle For Sailors</td>\n",
              "      <td>Bronze</td>\n",
              "    </tr>\n",
              "    <tr>\n",
              "      <th>3</th>\n",
              "      <td>1896</td>\n",
              "      <td>Athens</td>\n",
              "      <td>Aquatics</td>\n",
              "      <td>Swimming</td>\n",
              "      <td>MALOKINIS, Ioannis</td>\n",
              "      <td>GRE</td>\n",
              "      <td>Men</td>\n",
              "      <td>100M Freestyle For Sailors</td>\n",
              "      <td>Gold</td>\n",
              "    </tr>\n",
              "    <tr>\n",
              "      <th>4</th>\n",
              "      <td>1896</td>\n",
              "      <td>Athens</td>\n",
              "      <td>Aquatics</td>\n",
              "      <td>Swimming</td>\n",
              "      <td>CHASAPIS, Spiridon</td>\n",
              "      <td>GRE</td>\n",
              "      <td>Men</td>\n",
              "      <td>100M Freestyle For Sailors</td>\n",
              "      <td>Silver</td>\n",
              "    </tr>\n",
              "    <tr>\n",
              "      <th>5</th>\n",
              "      <td>1896</td>\n",
              "      <td>Athens</td>\n",
              "      <td>Aquatics</td>\n",
              "      <td>Swimming</td>\n",
              "      <td>CHOROPHAS, Efstathios</td>\n",
              "      <td>GRE</td>\n",
              "      <td>Men</td>\n",
              "      <td>1200M Freestyle</td>\n",
              "      <td>Bronze</td>\n",
              "    </tr>\n",
              "    <tr>\n",
              "      <th>6</th>\n",
              "      <td>1896</td>\n",
              "      <td>Athens</td>\n",
              "      <td>Aquatics</td>\n",
              "      <td>Swimming</td>\n",
              "      <td>HAJOS, Alfred</td>\n",
              "      <td>HUN</td>\n",
              "      <td>Men</td>\n",
              "      <td>1200M Freestyle</td>\n",
              "      <td>Gold</td>\n",
              "    </tr>\n",
              "    <tr>\n",
              "      <th>7</th>\n",
              "      <td>1896</td>\n",
              "      <td>Athens</td>\n",
              "      <td>Aquatics</td>\n",
              "      <td>Swimming</td>\n",
              "      <td>ANDREOU, Joannis</td>\n",
              "      <td>GRE</td>\n",
              "      <td>Men</td>\n",
              "      <td>1200M Freestyle</td>\n",
              "      <td>Silver</td>\n",
              "    </tr>\n",
              "    <tr>\n",
              "      <th>8</th>\n",
              "      <td>1896</td>\n",
              "      <td>Athens</td>\n",
              "      <td>Aquatics</td>\n",
              "      <td>Swimming</td>\n",
              "      <td>CHOROPHAS, Efstathios</td>\n",
              "      <td>GRE</td>\n",
              "      <td>Men</td>\n",
              "      <td>400M Freestyle</td>\n",
              "      <td>Bronze</td>\n",
              "    </tr>\n",
              "    <tr>\n",
              "      <th>9</th>\n",
              "      <td>1896</td>\n",
              "      <td>Athens</td>\n",
              "      <td>Aquatics</td>\n",
              "      <td>Swimming</td>\n",
              "      <td>NEUMANN, Paul</td>\n",
              "      <td>AUT</td>\n",
              "      <td>Men</td>\n",
              "      <td>400M Freestyle</td>\n",
              "      <td>Gold</td>\n",
              "    </tr>\n",
              "  </tbody>\n",
              "</table>\n",
              "</div>"
            ],
            "text/plain": [
              "   Year    City     Sport  ... Gender                       Event   Medal\n",
              "0  1896  Athens  Aquatics  ...    Men              100M Freestyle    Gold\n",
              "1  1896  Athens  Aquatics  ...    Men              100M Freestyle  Silver\n",
              "2  1896  Athens  Aquatics  ...    Men  100M Freestyle For Sailors  Bronze\n",
              "3  1896  Athens  Aquatics  ...    Men  100M Freestyle For Sailors    Gold\n",
              "4  1896  Athens  Aquatics  ...    Men  100M Freestyle For Sailors  Silver\n",
              "5  1896  Athens  Aquatics  ...    Men             1200M Freestyle  Bronze\n",
              "6  1896  Athens  Aquatics  ...    Men             1200M Freestyle    Gold\n",
              "7  1896  Athens  Aquatics  ...    Men             1200M Freestyle  Silver\n",
              "8  1896  Athens  Aquatics  ...    Men              400M Freestyle  Bronze\n",
              "9  1896  Athens  Aquatics  ...    Men              400M Freestyle    Gold\n",
              "\n",
              "[10 rows x 9 columns]"
            ]
          },
          "metadata": {},
          "execution_count": 13
        }
      ]
    },
    {
      "cell_type": "markdown",
      "metadata": {
        "id": "Ja6uAY6kYLTF"
      },
      "source": [
        "### 1. In how many cities Summer Olympics is held so far?"
      ]
    },
    {
      "cell_type": "markdown",
      "metadata": {
        "id": "1JtoXLEuaYJT"
      },
      "source": [
        "##### A. Here we would be printing the name of cities that have ever hosted Summer Olympics starting from the initial year.\n",
        "##### B. We would print only the Unique values as some has hosted it more than once also."
      ]
    },
    {
      "cell_type": "code",
      "metadata": {
        "id": "r2wT45f2YLTG",
        "colab": {
          "base_uri": "https://localhost:8080/"
        },
        "outputId": "24510c46-09a3-4bb0-9680-b2a6e8230306"
      },
      "source": [
        "print(\"Here are the names of cities that have ever hosted the Summer Olympics \\n\\n\", df[\"City\"].unique())"
      ],
      "execution_count": 16,
      "outputs": [
        {
          "output_type": "stream",
          "name": "stdout",
          "text": [
            "Here are the names of cities that have ever hosted the Summer Olympics \n",
            "\n",
            " ['Athens' 'Paris' 'St Louis' 'London' 'Stockholm' 'Antwerp' 'Amsterdam'\n",
            " 'Los Angeles' 'Berlin' 'Helsinki' 'Melbourne / Stockholm' 'Rome' 'Tokyo'\n",
            " 'Mexico' 'Munich' 'Montreal' 'Moscow' 'Seoul' 'Barcelona' 'Atlanta'\n",
            " 'Sydney' 'Beijing']\n"
          ]
        }
      ]
    },
    {
      "cell_type": "code",
      "metadata": {
        "id": "u0m-E0g4YLTH",
        "colab": {
          "base_uri": "https://localhost:8080/"
        },
        "outputId": "986d3130-d454-4187-873f-1638bf33cf3f"
      },
      "source": [
        "print(\"The number of cities that have ever hosted the Summer Olympics are : \\n\\n\",len(df[\"City\"].unique()))"
      ],
      "execution_count": 17,
      "outputs": [
        {
          "output_type": "stream",
          "name": "stdout",
          "text": [
            "The number of cities that have ever hosted the Summer Olympics are : \n",
            "\n",
            " 22\n"
          ]
        }
      ]
    },
    {
      "cell_type": "markdown",
      "metadata": {
        "id": "VFVNOtRIYLTI"
      },
      "source": [
        "### 2. Which sport is having most number of Gold Medals so far? (Top 5)"
      ]
    },
    {
      "cell_type": "markdown",
      "metadata": {
        "id": "sVlCp7Z9bnRH"
      },
      "source": [
        "#### A. Here we need to search the rows having GOLD in the column MEDALS. \n",
        "#### B. After finding them we would count the frequency for the TOP 5 after sorting them.\n",
        "#### C. Then we would plot them on a chart."
      ]
    },
    {
      "cell_type": "code",
      "metadata": {
        "id": "FApi431PYLTI",
        "colab": {
          "base_uri": "https://localhost:8080/",
          "height": 417
        },
        "outputId": "dc8631fa-5a57-4818-b218-c3e76eeec8d2"
      },
      "source": [
        "df1=df[df[\"Medal\"]==\"Gold\"].copy()\n",
        "df1"
      ],
      "execution_count": 18,
      "outputs": [
        {
          "output_type": "execute_result",
          "data": {
            "text/html": [
              "<div>\n",
              "<style scoped>\n",
              "    .dataframe tbody tr th:only-of-type {\n",
              "        vertical-align: middle;\n",
              "    }\n",
              "\n",
              "    .dataframe tbody tr th {\n",
              "        vertical-align: top;\n",
              "    }\n",
              "\n",
              "    .dataframe thead th {\n",
              "        text-align: right;\n",
              "    }\n",
              "</style>\n",
              "<table border=\"1\" class=\"dataframe\">\n",
              "  <thead>\n",
              "    <tr style=\"text-align: right;\">\n",
              "      <th></th>\n",
              "      <th>Year</th>\n",
              "      <th>City</th>\n",
              "      <th>Sport</th>\n",
              "      <th>Discipline</th>\n",
              "      <th>Athlete</th>\n",
              "      <th>Country</th>\n",
              "      <th>Gender</th>\n",
              "      <th>Event</th>\n",
              "      <th>Medal</th>\n",
              "    </tr>\n",
              "  </thead>\n",
              "  <tbody>\n",
              "    <tr>\n",
              "      <th>0</th>\n",
              "      <td>1896</td>\n",
              "      <td>Athens</td>\n",
              "      <td>Aquatics</td>\n",
              "      <td>Swimming</td>\n",
              "      <td>HAJOS, Alfred</td>\n",
              "      <td>HUN</td>\n",
              "      <td>Men</td>\n",
              "      <td>100M Freestyle</td>\n",
              "      <td>Gold</td>\n",
              "    </tr>\n",
              "    <tr>\n",
              "      <th>3</th>\n",
              "      <td>1896</td>\n",
              "      <td>Athens</td>\n",
              "      <td>Aquatics</td>\n",
              "      <td>Swimming</td>\n",
              "      <td>MALOKINIS, Ioannis</td>\n",
              "      <td>GRE</td>\n",
              "      <td>Men</td>\n",
              "      <td>100M Freestyle For Sailors</td>\n",
              "      <td>Gold</td>\n",
              "    </tr>\n",
              "    <tr>\n",
              "      <th>6</th>\n",
              "      <td>1896</td>\n",
              "      <td>Athens</td>\n",
              "      <td>Aquatics</td>\n",
              "      <td>Swimming</td>\n",
              "      <td>HAJOS, Alfred</td>\n",
              "      <td>HUN</td>\n",
              "      <td>Men</td>\n",
              "      <td>1200M Freestyle</td>\n",
              "      <td>Gold</td>\n",
              "    </tr>\n",
              "    <tr>\n",
              "      <th>9</th>\n",
              "      <td>1896</td>\n",
              "      <td>Athens</td>\n",
              "      <td>Aquatics</td>\n",
              "      <td>Swimming</td>\n",
              "      <td>NEUMANN, Paul</td>\n",
              "      <td>AUT</td>\n",
              "      <td>Men</td>\n",
              "      <td>400M Freestyle</td>\n",
              "      <td>Gold</td>\n",
              "    </tr>\n",
              "    <tr>\n",
              "      <th>13</th>\n",
              "      <td>1896</td>\n",
              "      <td>Athens</td>\n",
              "      <td>Athletics</td>\n",
              "      <td>Athletics</td>\n",
              "      <td>BURKE, Thomas</td>\n",
              "      <td>USA</td>\n",
              "      <td>Men</td>\n",
              "      <td>100M</td>\n",
              "      <td>Gold</td>\n",
              "    </tr>\n",
              "    <tr>\n",
              "      <th>...</th>\n",
              "      <td>...</td>\n",
              "      <td>...</td>\n",
              "      <td>...</td>\n",
              "      <td>...</td>\n",
              "      <td>...</td>\n",
              "      <td>...</td>\n",
              "      <td>...</td>\n",
              "      <td>...</td>\n",
              "      <td>...</td>\n",
              "    </tr>\n",
              "    <tr>\n",
              "      <th>31145</th>\n",
              "      <td>2012</td>\n",
              "      <td>London</td>\n",
              "      <td>Wrestling</td>\n",
              "      <td>Wrestling Freestyle</td>\n",
              "      <td>NOROOZI, Omid Haji</td>\n",
              "      <td>IRI</td>\n",
              "      <td>Men</td>\n",
              "      <td>Wg 60 KG</td>\n",
              "      <td>Gold</td>\n",
              "    </tr>\n",
              "    <tr>\n",
              "      <th>31149</th>\n",
              "      <td>2012</td>\n",
              "      <td>London</td>\n",
              "      <td>Wrestling</td>\n",
              "      <td>Wrestling Freestyle</td>\n",
              "      <td>KIM, Hyeonwoo</td>\n",
              "      <td>KOR</td>\n",
              "      <td>Men</td>\n",
              "      <td>Wg 66 KG</td>\n",
              "      <td>Gold</td>\n",
              "    </tr>\n",
              "    <tr>\n",
              "      <th>31153</th>\n",
              "      <td>2012</td>\n",
              "      <td>London</td>\n",
              "      <td>Wrestling</td>\n",
              "      <td>Wrestling Freestyle</td>\n",
              "      <td>VLASOV, Roman</td>\n",
              "      <td>RUS</td>\n",
              "      <td>Men</td>\n",
              "      <td>Wg 74 KG</td>\n",
              "      <td>Gold</td>\n",
              "    </tr>\n",
              "    <tr>\n",
              "      <th>31157</th>\n",
              "      <td>2012</td>\n",
              "      <td>London</td>\n",
              "      <td>Wrestling</td>\n",
              "      <td>Wrestling Freestyle</td>\n",
              "      <td>KHUGAEV, Alan</td>\n",
              "      <td>RUS</td>\n",
              "      <td>Men</td>\n",
              "      <td>Wg 84 KG</td>\n",
              "      <td>Gold</td>\n",
              "    </tr>\n",
              "    <tr>\n",
              "      <th>31161</th>\n",
              "      <td>2012</td>\n",
              "      <td>London</td>\n",
              "      <td>Wrestling</td>\n",
              "      <td>Wrestling Freestyle</td>\n",
              "      <td>REZAEI, Ghasem Gholamreza</td>\n",
              "      <td>IRI</td>\n",
              "      <td>Men</td>\n",
              "      <td>Wg 96 KG</td>\n",
              "      <td>Gold</td>\n",
              "    </tr>\n",
              "  </tbody>\n",
              "</table>\n",
              "<p>10486 rows × 9 columns</p>\n",
              "</div>"
            ],
            "text/plain": [
              "       Year    City      Sport  ... Gender                       Event Medal\n",
              "0      1896  Athens   Aquatics  ...    Men              100M Freestyle  Gold\n",
              "3      1896  Athens   Aquatics  ...    Men  100M Freestyle For Sailors  Gold\n",
              "6      1896  Athens   Aquatics  ...    Men             1200M Freestyle  Gold\n",
              "9      1896  Athens   Aquatics  ...    Men              400M Freestyle  Gold\n",
              "13     1896  Athens  Athletics  ...    Men                        100M  Gold\n",
              "...     ...     ...        ...  ...    ...                         ...   ...\n",
              "31145  2012  London  Wrestling  ...    Men                    Wg 60 KG  Gold\n",
              "31149  2012  London  Wrestling  ...    Men                    Wg 66 KG  Gold\n",
              "31153  2012  London  Wrestling  ...    Men                    Wg 74 KG  Gold\n",
              "31157  2012  London  Wrestling  ...    Men                    Wg 84 KG  Gold\n",
              "31161  2012  London  Wrestling  ...    Men                    Wg 96 KG  Gold\n",
              "\n",
              "[10486 rows x 9 columns]"
            ]
          },
          "metadata": {},
          "execution_count": 18
        }
      ]
    },
    {
      "cell_type": "code",
      "metadata": {
        "id": "ZNyw1r_FYLTJ",
        "colab": {
          "base_uri": "https://localhost:8080/",
          "height": 203
        },
        "outputId": "ffb28546-c9b4-47b6-a4e4-46a22dd9c80d"
      },
      "source": [
        "data=[]\n",
        "\n",
        "for sport in df1[\"Sport\"].unique():\n",
        "    data.append([sport,len(df1[df1[\"Sport\"]==sport])])\n",
        "    \n",
        "data=pd.DataFrame(data,columns = ['Sports','Golds Won']).sort_values(by='Golds Won', ascending=False).head()\n",
        "data"
      ],
      "execution_count": 19,
      "outputs": [
        {
          "output_type": "execute_result",
          "data": {
            "text/html": [
              "<div>\n",
              "<style scoped>\n",
              "    .dataframe tbody tr th:only-of-type {\n",
              "        vertical-align: middle;\n",
              "    }\n",
              "\n",
              "    .dataframe tbody tr th {\n",
              "        vertical-align: top;\n",
              "    }\n",
              "\n",
              "    .dataframe thead th {\n",
              "        text-align: right;\n",
              "    }\n",
              "</style>\n",
              "<table border=\"1\" class=\"dataframe\">\n",
              "  <thead>\n",
              "    <tr style=\"text-align: right;\">\n",
              "      <th></th>\n",
              "      <th>Sports</th>\n",
              "      <th>Golds Won</th>\n",
              "    </tr>\n",
              "  </thead>\n",
              "  <tbody>\n",
              "    <tr>\n",
              "      <th>0</th>\n",
              "      <td>Aquatics</td>\n",
              "      <td>1421</td>\n",
              "    </tr>\n",
              "    <tr>\n",
              "      <th>1</th>\n",
              "      <td>Athletics</td>\n",
              "      <td>1215</td>\n",
              "    </tr>\n",
              "    <tr>\n",
              "      <th>17</th>\n",
              "      <td>Rowing</td>\n",
              "      <td>890</td>\n",
              "    </tr>\n",
              "    <tr>\n",
              "      <th>4</th>\n",
              "      <td>Gymnastics</td>\n",
              "      <td>820</td>\n",
              "    </tr>\n",
              "    <tr>\n",
              "      <th>3</th>\n",
              "      <td>Fencing</td>\n",
              "      <td>552</td>\n",
              "    </tr>\n",
              "  </tbody>\n",
              "</table>\n",
              "</div>"
            ],
            "text/plain": [
              "        Sports  Golds Won\n",
              "0     Aquatics       1421\n",
              "1    Athletics       1215\n",
              "17      Rowing        890\n",
              "4   Gymnastics        820\n",
              "3      Fencing        552"
            ]
          },
          "metadata": {},
          "execution_count": 19
        }
      ]
    },
    {
      "cell_type": "code",
      "metadata": {
        "id": "CjuZrfE1YLTK",
        "colab": {
          "base_uri": "https://localhost:8080/",
          "height": 399
        },
        "outputId": "8537e692-13f9-46ef-e511-6abd330d86fa"
      },
      "source": [
        "data.plot(x = 'Sports', y = 'Golds Won', kind = 'bar', figsize = (10,5),color=\"Yellow\")"
      ],
      "execution_count": 20,
      "outputs": [
        {
          "output_type": "execute_result",
          "data": {
            "text/plain": [
              "<matplotlib.axes._subplots.AxesSubplot at 0x7ff3c662bb50>"
            ]
          },
          "metadata": {},
          "execution_count": 20
        },
        {
          "output_type": "display_data",
          "data": {
            "image/png": "[encoded data removed]",
            "text/plain": [
              "<Figure size 720x360 with 1 Axes>"
            ]
          },
          "metadata": {
            "needs_background": "light"
          }
        }
      ]
    },
    {
      "cell_type": "markdown",
      "metadata": {
        "id": "lY01O8oQYLTL"
      },
      "source": [
        "### 3. Which sport is having most number of medals so far? (Top 5)"
      ]
    },
    {
      "cell_type": "markdown",
      "metadata": {
        "id": "I3lqI_uOcw3y"
      },
      "source": [
        "##### A. We would sort the data on the basis of TOTAL NUMBER OF MEDALS WON ( irrespective of its type as Gold, Silver or Bronze )\n",
        "##### B. Then we would print the TOP 5 values.\n",
        "##### C. For those TOP 5, we would plot a bar chart also."
      ]
    },
    {
      "cell_type": "code",
      "metadata": {
        "id": "OEXIujGwYLTL",
        "colab": {
          "base_uri": "https://localhost:8080/",
          "height": 203
        },
        "outputId": "2c51bc87-5b4f-4a49-dace-f80e6083d456"
      },
      "source": [
        "data1=[]\n",
        "for Sport in df[\"Sport\"].unique():\n",
        "    data1.append([Sport,len(df[df[\"Sport\"]==Sport])])\n",
        "\n",
        "    \n",
        "data1=pd.DataFrame(data1,columns=[\"Sports\",\"Medals Won\"]).sort_values(by=\"Medals Won\",ascending=False).head()\n",
        "data1    "
      ],
      "execution_count": 21,
      "outputs": [
        {
          "output_type": "execute_result",
          "data": {
            "text/html": [
              "<div>\n",
              "<style scoped>\n",
              "    .dataframe tbody tr th:only-of-type {\n",
              "        vertical-align: middle;\n",
              "    }\n",
              "\n",
              "    .dataframe tbody tr th {\n",
              "        vertical-align: top;\n",
              "    }\n",
              "\n",
              "    .dataframe thead th {\n",
              "        text-align: right;\n",
              "    }\n",
              "</style>\n",
              "<table border=\"1\" class=\"dataframe\">\n",
              "  <thead>\n",
              "    <tr style=\"text-align: right;\">\n",
              "      <th></th>\n",
              "      <th>Sports</th>\n",
              "      <th>Medals Won</th>\n",
              "    </tr>\n",
              "  </thead>\n",
              "  <tbody>\n",
              "    <tr>\n",
              "      <th>0</th>\n",
              "      <td>Aquatics</td>\n",
              "      <td>4170</td>\n",
              "    </tr>\n",
              "    <tr>\n",
              "      <th>1</th>\n",
              "      <td>Athletics</td>\n",
              "      <td>3638</td>\n",
              "    </tr>\n",
              "    <tr>\n",
              "      <th>17</th>\n",
              "      <td>Rowing</td>\n",
              "      <td>2667</td>\n",
              "    </tr>\n",
              "    <tr>\n",
              "      <th>4</th>\n",
              "      <td>Gymnastics</td>\n",
              "      <td>2307</td>\n",
              "    </tr>\n",
              "    <tr>\n",
              "      <th>3</th>\n",
              "      <td>Fencing</td>\n",
              "      <td>1613</td>\n",
              "    </tr>\n",
              "  </tbody>\n",
              "</table>\n",
              "</div>"
            ],
            "text/plain": [
              "        Sports  Medals Won\n",
              "0     Aquatics        4170\n",
              "1    Athletics        3638\n",
              "17      Rowing        2667\n",
              "4   Gymnastics        2307\n",
              "3      Fencing        1613"
            ]
          },
          "metadata": {},
          "execution_count": 21
        }
      ]
    },
    {
      "cell_type": "code",
      "metadata": {
        "id": "-HbySBvKYLTM",
        "colab": {
          "base_uri": "https://localhost:8080/",
          "height": 399
        },
        "outputId": "9986f3e9-c01e-483d-ff9e-a809258e5481"
      },
      "source": [
        "data1.plot(x=\"Sports\",y=\"Medals Won\",kind='bar',figsize=(10,5),color=\"Brown\")"
      ],
      "execution_count": 23,
      "outputs": [
        {
          "output_type": "execute_result",
          "data": {
            "text/plain": [
              "<matplotlib.axes._subplots.AxesSubplot at 0x7ff3c651e8d0>"
            ]
          },
          "metadata": {},
          "execution_count": 23
        },
        {
          "output_type": "display_data",
          "data": {
            "image/png": "[encoded data removed]",
            "text/plain": [
              "<Figure size 720x360 with 1 Axes>"
            ]
          },
          "metadata": {
            "needs_background": "light"
          }
        }
      ]
    },
    {
      "cell_type": "markdown",
      "metadata": {
        "id": "ESXsWOF4YLTN"
      },
      "source": [
        "### 4. Which player has won most number of medals? (Top 5)"
      ]
    },
    {
      "cell_type": "markdown",
      "metadata": {
        "id": "Q7hLj1WFkQmP"
      },
      "source": [
        "##### A. Here we would COUNT the number of MEDALS for specific ATHELETE and list them.\n",
        "##### B. We would count the sum of Gold, Silver and Bronze and combine them.\n",
        "##### C. We would sort them in DESCENDING ORDER.\n",
        "##### D. Plot a chart for it."
      ]
    },
    {
      "cell_type": "code",
      "metadata": {
        "id": "pdFPy-F0YLTN",
        "colab": {
          "base_uri": "https://localhost:8080/"
        },
        "outputId": "abdfc21d-6c73-4b93-ee1c-a10a365d6650"
      },
      "source": [
        "print(\"The number of rows having No Medal Data is : \\n\",df[\"Medal\"].isnull().sum())\n",
        "print(\"\\n\\nThe number of Total Medals won till date is : \\n\",len(df[df[\"Medal\"]==\"Gold\"])+len(df[df[\"Medal\"]==\"Silver\"])+len(df[df[\"Medal\"]==\"Bronze\"]))"
      ],
      "execution_count": 36,
      "outputs": [
        {
          "output_type": "stream",
          "name": "stdout",
          "text": [
            "The number of rows having No Medal Data is : \n",
            " 0\n",
            "\n",
            "\n",
            "The number of Total Medals won till date is : \n",
            " 31165\n"
          ]
        }
      ]
    },
    {
      "cell_type": "code",
      "metadata": {
        "id": "TwXu9d9tYLTQ",
        "colab": {
          "base_uri": "https://localhost:8080/"
        },
        "outputId": "96479414-a1bc-41bc-aa2a-8478c836dffc"
      },
      "source": [
        "print(\"The number of atheletes won till this date is :\\n\", len(df[\"Athlete\"].unique()))"
      ],
      "execution_count": 35,
      "outputs": [
        {
          "output_type": "stream",
          "name": "stdout",
          "text": [
            "The number of atheletes won till this date is :\n",
            " 22762\n"
          ]
        }
      ]
    },
    {
      "cell_type": "markdown",
      "metadata": {
        "id": "0NjowRTQYLTR"
      },
      "source": [
        "In a given dataset there is no null value in the given Medal column"
      ]
    },
    {
      "cell_type": "code",
      "metadata": {
        "id": "8obdBub3YLTS",
        "colab": {
          "base_uri": "https://localhost:8080/",
          "height": 203
        },
        "outputId": "2979a2c5-712a-4d41-96a3-5f9112291b2c"
      },
      "source": [
        "data2=[]\n",
        "\n",
        "for player in df[\"Athlete\"].unique():\n",
        "    data2.append([player,len(df[df[\"Athlete\"]==player])])\n",
        "\n",
        "data2=pd.DataFrame(data2,columns=[\"Athlete\",\"Medals Won\"]).sort_values(by=\"Medals Won\",ascending=False).head(5)\n",
        "data2"
      ],
      "execution_count": 38,
      "outputs": [
        {
          "output_type": "execute_result",
          "data": {
            "text/html": [
              "<div>\n",
              "<style scoped>\n",
              "    .dataframe tbody tr th:only-of-type {\n",
              "        vertical-align: middle;\n",
              "    }\n",
              "\n",
              "    .dataframe tbody tr th {\n",
              "        vertical-align: top;\n",
              "    }\n",
              "\n",
              "    .dataframe thead th {\n",
              "        text-align: right;\n",
              "    }\n",
              "</style>\n",
              "<table border=\"1\" class=\"dataframe\">\n",
              "  <thead>\n",
              "    <tr style=\"text-align: right;\">\n",
              "      <th></th>\n",
              "      <th>Athlete</th>\n",
              "      <th>Medals Won</th>\n",
              "    </tr>\n",
              "  </thead>\n",
              "  <tbody>\n",
              "    <tr>\n",
              "      <th>18640</th>\n",
              "      <td>PHELPS, Michael</td>\n",
              "      <td>22</td>\n",
              "    </tr>\n",
              "    <tr>\n",
              "      <th>7197</th>\n",
              "      <td>LATYNINA, Larisa</td>\n",
              "      <td>18</td>\n",
              "    </tr>\n",
              "    <tr>\n",
              "      <th>9948</th>\n",
              "      <td>ANDRIANOV, Nikolay</td>\n",
              "      <td>15</td>\n",
              "    </tr>\n",
              "    <tr>\n",
              "      <th>6591</th>\n",
              "      <td>ONO, Takashi</td>\n",
              "      <td>13</td>\n",
              "    </tr>\n",
              "    <tr>\n",
              "      <th>5103</th>\n",
              "      <td>MANGIAROTTI, Edoardo</td>\n",
              "      <td>13</td>\n",
              "    </tr>\n",
              "  </tbody>\n",
              "</table>\n",
              "</div>"
            ],
            "text/plain": [
              "                    Athlete  Medals Won\n",
              "18640       PHELPS, Michael          22\n",
              "7197       LATYNINA, Larisa          18\n",
              "9948     ANDRIANOV, Nikolay          15\n",
              "6591           ONO, Takashi          13\n",
              "5103   MANGIAROTTI, Edoardo          13"
            ]
          },
          "metadata": {},
          "execution_count": 38
        }
      ]
    },
    {
      "cell_type": "code",
      "metadata": {
        "id": "nGp6dmfnYLTS",
        "colab": {
          "base_uri": "https://localhost:8080/",
          "height": 458
        },
        "outputId": "d065d7dc-d51d-46fe-af2a-c36897410a40"
      },
      "source": [
        "data2.plot(x=\"Athlete\",y='Medals Won',color=\"Pink\",figsize=(12,5),kind=\"bar\")"
      ],
      "execution_count": 39,
      "outputs": [
        {
          "output_type": "execute_result",
          "data": {
            "text/plain": [
              "<matplotlib.axes._subplots.AxesSubplot at 0x7ff3c5ee2110>"
            ]
          },
          "metadata": {},
          "execution_count": 39
        },
        {
          "output_type": "display_data",
          "data": {
            "image/png": "[encoded data removed]",
            "text/plain": [
              "<Figure size 864x360 with 1 Axes>"
            ]
          },
          "metadata": {
            "needs_background": "light"
          }
        }
      ]
    },
    {
      "cell_type": "markdown",
      "metadata": {
        "id": "LQHSsWwGYLTT"
      },
      "source": [
        "### 5. Which player has won most number Gold Medals of medals? (Top 5)"
      ]
    },
    {
      "cell_type": "markdown",
      "metadata": {
        "id": "yANB3i7enUTW"
      },
      "source": [
        "##### A. Here we would COUNT the number of MEDALS for specific ATHELETE and list them only if they are GOLD.\n",
        "##### B. We would Count and then Sort them in DESCENDING ORDER.\n",
        "##### C. Plot a chart for it."
      ]
    },
    {
      "cell_type": "code",
      "metadata": {
        "id": "dJ6lLWszYLTU",
        "colab": {
          "base_uri": "https://localhost:8080/",
          "height": 203
        },
        "outputId": "cf9d1964-6e29-4cbd-c320-ff45ada78ff3"
      },
      "source": [
        "df1=df[df[\"Medal\"]==\"Gold\"].copy()\n",
        "data3=[]\n",
        "\n",
        "for player in df1[\"Athlete\"].unique():\n",
        "    data3.append([player,len(df1[df1[\"Athlete\"]==player])])\n",
        "\n",
        "data3=pd.DataFrame(data3,columns=[\"Athlete\",\"Gold Wons\"]).sort_values(by=\"Gold Wons\",ascending=False).head()\n",
        "data3"
      ],
      "execution_count": 43,
      "outputs": [
        {
          "output_type": "execute_result",
          "data": {
            "text/html": [
              "<div>\n",
              "<style scoped>\n",
              "    .dataframe tbody tr th:only-of-type {\n",
              "        vertical-align: middle;\n",
              "    }\n",
              "\n",
              "    .dataframe tbody tr th {\n",
              "        vertical-align: top;\n",
              "    }\n",
              "\n",
              "    .dataframe thead th {\n",
              "        text-align: right;\n",
              "    }\n",
              "</style>\n",
              "<table border=\"1\" class=\"dataframe\">\n",
              "  <thead>\n",
              "    <tr style=\"text-align: right;\">\n",
              "      <th></th>\n",
              "      <th>Athlete</th>\n",
              "      <th>Gold Wons</th>\n",
              "    </tr>\n",
              "  </thead>\n",
              "  <tbody>\n",
              "    <tr>\n",
              "      <th>6851</th>\n",
              "      <td>PHELPS, Michael</td>\n",
              "      <td>18</td>\n",
              "    </tr>\n",
              "    <tr>\n",
              "      <th>3320</th>\n",
              "      <td>SPITZ, Mark</td>\n",
              "      <td>9</td>\n",
              "    </tr>\n",
              "    <tr>\n",
              "      <th>2714</th>\n",
              "      <td>LATYNINA, Larisa</td>\n",
              "      <td>9</td>\n",
              "    </tr>\n",
              "    <tr>\n",
              "      <th>4630</th>\n",
              "      <td>LEWIS, Carl</td>\n",
              "      <td>9</td>\n",
              "    </tr>\n",
              "    <tr>\n",
              "      <th>907</th>\n",
              "      <td>NURMI, Paavo</td>\n",
              "      <td>9</td>\n",
              "    </tr>\n",
              "  </tbody>\n",
              "</table>\n",
              "</div>"
            ],
            "text/plain": [
              "               Athlete  Gold Wons\n",
              "6851   PHELPS, Michael         18\n",
              "3320       SPITZ, Mark          9\n",
              "2714  LATYNINA, Larisa          9\n",
              "4630       LEWIS, Carl          9\n",
              "907       NURMI, Paavo          9"
            ]
          },
          "metadata": {},
          "execution_count": 43
        }
      ]
    },
    {
      "cell_type": "code",
      "metadata": {
        "id": "Jj_TMnjZYLTV",
        "colab": {
          "base_uri": "https://localhost:8080/",
          "height": 426
        },
        "outputId": "7268fd3c-2e50-428b-fe3e-04e317bdcd0c"
      },
      "source": [
        "data3.plot(x=\"Athlete\",y=\"Gold Wons\",color=\"#4169E1\",kind='bar',figsize=(10,5))"
      ],
      "execution_count": 46,
      "outputs": [
        {
          "output_type": "execute_result",
          "data": {
            "text/plain": [
              "<matplotlib.axes._subplots.AxesSubplot at 0x7ff3c59f44d0>"
            ]
          },
          "metadata": {},
          "execution_count": 46
        },
        {
          "output_type": "display_data",
          "data": {
            "image/png": "[encoded data removed]",
            "text/plain": [
              "<Figure size 720x360 with 1 Axes>"
            ]
          },
          "metadata": {
            "needs_background": "light"
          }
        }
      ]
    },
    {
      "cell_type": "markdown",
      "metadata": {
        "id": "JGxW-UFyYLTV"
      },
      "source": [
        "### 6. In which year India won first Gold Medal in Summer Olympics?"
      ]
    },
    {
      "cell_type": "markdown",
      "metadata": {
        "id": "hxxZ4FhGn1at"
      },
      "source": [
        "##### A. We would check the data where country is India.\n",
        "##### B. After that we would check the GOLD values from them.\n",
        "##### C. Sort them on the BASIS OF YEAR in Ascending Order."
      ]
    },
    {
      "cell_type": "code",
      "metadata": {
        "id": "ahAR6JbrYLTW",
        "colab": {
          "base_uri": "https://localhost:8080/",
          "height": 417
        },
        "outputId": "4fa311ac-60f5-49ed-bd04-fa5075ef9adc"
      },
      "source": [
        "df2=df[df[\"Country\"]==\"IND\"].copy()\n",
        "df2=df2[df2[\"Medal\"]==\"Gold\"].copy()\n",
        "df2"
      ],
      "execution_count": 47,
      "outputs": [
        {
          "output_type": "execute_result",
          "data": {
            "text/html": [
              "<div>\n",
              "<style scoped>\n",
              "    .dataframe tbody tr th:only-of-type {\n",
              "        vertical-align: middle;\n",
              "    }\n",
              "\n",
              "    .dataframe tbody tr th {\n",
              "        vertical-align: top;\n",
              "    }\n",
              "\n",
              "    .dataframe thead th {\n",
              "        text-align: right;\n",
              "    }\n",
              "</style>\n",
              "<table border=\"1\" class=\"dataframe\">\n",
              "  <thead>\n",
              "    <tr style=\"text-align: right;\">\n",
              "      <th></th>\n",
              "      <th>Year</th>\n",
              "      <th>City</th>\n",
              "      <th>Sport</th>\n",
              "      <th>Discipline</th>\n",
              "      <th>Athlete</th>\n",
              "      <th>Country</th>\n",
              "      <th>Gender</th>\n",
              "      <th>Event</th>\n",
              "      <th>Medal</th>\n",
              "    </tr>\n",
              "  </thead>\n",
              "  <tbody>\n",
              "    <tr>\n",
              "      <th>5512</th>\n",
              "      <td>1928</td>\n",
              "      <td>Amsterdam</td>\n",
              "      <td>Hockey</td>\n",
              "      <td>Hockey</td>\n",
              "      <td>ALLEN, Richard James</td>\n",
              "      <td>IND</td>\n",
              "      <td>Men</td>\n",
              "      <td>Hockey</td>\n",
              "      <td>Gold</td>\n",
              "    </tr>\n",
              "    <tr>\n",
              "      <th>5513</th>\n",
              "      <td>1928</td>\n",
              "      <td>Amsterdam</td>\n",
              "      <td>Hockey</td>\n",
              "      <td>Hockey</td>\n",
              "      <td>CHAND, Dyan</td>\n",
              "      <td>IND</td>\n",
              "      <td>Men</td>\n",
              "      <td>Hockey</td>\n",
              "      <td>Gold</td>\n",
              "    </tr>\n",
              "    <tr>\n",
              "      <th>5514</th>\n",
              "      <td>1928</td>\n",
              "      <td>Amsterdam</td>\n",
              "      <td>Hockey</td>\n",
              "      <td>Hockey</td>\n",
              "      <td>GATELEY, Maurice A.</td>\n",
              "      <td>IND</td>\n",
              "      <td>Men</td>\n",
              "      <td>Hockey</td>\n",
              "      <td>Gold</td>\n",
              "    </tr>\n",
              "    <tr>\n",
              "      <th>5515</th>\n",
              "      <td>1928</td>\n",
              "      <td>Amsterdam</td>\n",
              "      <td>Hockey</td>\n",
              "      <td>Hockey</td>\n",
              "      <td>GILL, K. S.</td>\n",
              "      <td>IND</td>\n",
              "      <td>Men</td>\n",
              "      <td>Hockey</td>\n",
              "      <td>Gold</td>\n",
              "    </tr>\n",
              "    <tr>\n",
              "      <th>5516</th>\n",
              "      <td>1928</td>\n",
              "      <td>Amsterdam</td>\n",
              "      <td>Hockey</td>\n",
              "      <td>Hockey</td>\n",
              "      <td>GOODSIR-CULLEN, William John</td>\n",
              "      <td>IND</td>\n",
              "      <td>Men</td>\n",
              "      <td>Hockey</td>\n",
              "      <td>Gold</td>\n",
              "    </tr>\n",
              "    <tr>\n",
              "      <th>...</th>\n",
              "      <td>...</td>\n",
              "      <td>...</td>\n",
              "      <td>...</td>\n",
              "      <td>...</td>\n",
              "      <td>...</td>\n",
              "      <td>...</td>\n",
              "      <td>...</td>\n",
              "      <td>...</td>\n",
              "      <td>...</td>\n",
              "    </tr>\n",
              "    <tr>\n",
              "      <th>16099</th>\n",
              "      <td>1980</td>\n",
              "      <td>Moscow</td>\n",
              "      <td>Hockey</td>\n",
              "      <td>Hockey</td>\n",
              "      <td>SINGH, Singh</td>\n",
              "      <td>IND</td>\n",
              "      <td>Men</td>\n",
              "      <td>Hockey</td>\n",
              "      <td>Gold</td>\n",
              "    </tr>\n",
              "    <tr>\n",
              "      <th>16100</th>\n",
              "      <td>1980</td>\n",
              "      <td>Moscow</td>\n",
              "      <td>Hockey</td>\n",
              "      <td>Hockey</td>\n",
              "      <td>SURINDER, Singh</td>\n",
              "      <td>IND</td>\n",
              "      <td>Men</td>\n",
              "      <td>Hockey</td>\n",
              "      <td>Gold</td>\n",
              "    </tr>\n",
              "    <tr>\n",
              "      <th>16101</th>\n",
              "      <td>1980</td>\n",
              "      <td>Moscow</td>\n",
              "      <td>Hockey</td>\n",
              "      <td>Hockey</td>\n",
              "      <td>SYLVANUS, Dung Dung</td>\n",
              "      <td>IND</td>\n",
              "      <td>Men</td>\n",
              "      <td>Hockey</td>\n",
              "      <td>Gold</td>\n",
              "    </tr>\n",
              "    <tr>\n",
              "      <th>16102</th>\n",
              "      <td>1980</td>\n",
              "      <td>Moscow</td>\n",
              "      <td>Hockey</td>\n",
              "      <td>Hockey</td>\n",
              "      <td>ZAFAR, Zafar</td>\n",
              "      <td>IND</td>\n",
              "      <td>Men</td>\n",
              "      <td>Hockey</td>\n",
              "      <td>Gold</td>\n",
              "    </tr>\n",
              "    <tr>\n",
              "      <th>28856</th>\n",
              "      <td>2008</td>\n",
              "      <td>Beijing</td>\n",
              "      <td>Shooting</td>\n",
              "      <td>Shooting</td>\n",
              "      <td>BINDRA, Abhinav</td>\n",
              "      <td>IND</td>\n",
              "      <td>Men</td>\n",
              "      <td>10M Air Rifle (60 Shots)</td>\n",
              "      <td>Gold</td>\n",
              "    </tr>\n",
              "  </tbody>\n",
              "</table>\n",
              "<p>128 rows × 9 columns</p>\n",
              "</div>"
            ],
            "text/plain": [
              "       Year       City     Sport  ... Gender                     Event Medal\n",
              "5512   1928  Amsterdam    Hockey  ...    Men                    Hockey  Gold\n",
              "5513   1928  Amsterdam    Hockey  ...    Men                    Hockey  Gold\n",
              "5514   1928  Amsterdam    Hockey  ...    Men                    Hockey  Gold\n",
              "5515   1928  Amsterdam    Hockey  ...    Men                    Hockey  Gold\n",
              "5516   1928  Amsterdam    Hockey  ...    Men                    Hockey  Gold\n",
              "...     ...        ...       ...  ...    ...                       ...   ...\n",
              "16099  1980     Moscow    Hockey  ...    Men                    Hockey  Gold\n",
              "16100  1980     Moscow    Hockey  ...    Men                    Hockey  Gold\n",
              "16101  1980     Moscow    Hockey  ...    Men                    Hockey  Gold\n",
              "16102  1980     Moscow    Hockey  ...    Men                    Hockey  Gold\n",
              "28856  2008    Beijing  Shooting  ...    Men  10M Air Rifle (60 Shots)  Gold\n",
              "\n",
              "[128 rows x 9 columns]"
            ]
          },
          "metadata": {},
          "execution_count": 47
        }
      ]
    },
    {
      "cell_type": "code",
      "metadata": {
        "id": "CflcwrOdYLTW",
        "colab": {
          "base_uri": "https://localhost:8080/"
        },
        "outputId": "a84271a1-f47b-4bec-fe81-0d0bbe918723"
      },
      "source": [
        "print(\"India won it's first GOLD MEDAL in the year :\\n\",df2[\"Year\"].min())"
      ],
      "execution_count": 48,
      "outputs": [
        {
          "output_type": "stream",
          "name": "stdout",
          "text": [
            "India won it's first GOLD MEDAL in the year :\n",
            " 1928\n"
          ]
        }
      ]
    },
    {
      "cell_type": "markdown",
      "metadata": {
        "id": "WStyrrMYYLTY"
      },
      "source": [
        "### 7. Which event is most popular in terms on number of players? (Top 5)"
      ]
    },
    {
      "cell_type": "markdown",
      "metadata": {
        "id": "DnHOCbA3pIMk"
      },
      "source": [
        "##### A. We would sort the types of events and check for Unique Values.\n",
        "##### B. We would APPEND the Frequency of that Event on the Number of Player.\n",
        "##### C. We would sort them in DESCENDING ORDER.\n",
        "##### D. Plot them on chart."
      ]
    },
    {
      "cell_type": "code",
      "metadata": {
        "id": "AlHErRcgYLTY",
        "colab": {
          "base_uri": "https://localhost:8080/",
          "height": 203
        },
        "outputId": "790fefa3-5e1e-48b1-bb20-cd515d19ed8f"
      },
      "source": [
        "data4=[]\n",
        "\n",
        "for Event in df[\"Event\"].unique():\n",
        "    data4.append([Event,len(df[df[\"Event\"]==Event])])\n",
        "\n",
        "\n",
        "data4=pd.DataFrame(data4,columns=[\"Events\",\"No. of Players\"]).sort_values(by=\"No. of Players\",ascending=False).head()\n",
        "data4"
      ],
      "execution_count": 49,
      "outputs": [
        {
          "output_type": "execute_result",
          "data": {
            "text/html": [
              "<div>\n",
              "<style scoped>\n",
              "    .dataframe tbody tr th:only-of-type {\n",
              "        vertical-align: middle;\n",
              "    }\n",
              "\n",
              "    .dataframe tbody tr th {\n",
              "        vertical-align: top;\n",
              "    }\n",
              "\n",
              "    .dataframe thead th {\n",
              "        text-align: right;\n",
              "    }\n",
              "</style>\n",
              "<table border=\"1\" class=\"dataframe\">\n",
              "  <thead>\n",
              "    <tr style=\"text-align: right;\">\n",
              "      <th></th>\n",
              "      <th>Events</th>\n",
              "      <th>No. of Players</th>\n",
              "    </tr>\n",
              "  </thead>\n",
              "  <tbody>\n",
              "    <tr>\n",
              "      <th>80</th>\n",
              "      <td>Football</td>\n",
              "      <td>1497</td>\n",
              "    </tr>\n",
              "    <tr>\n",
              "      <th>176</th>\n",
              "      <td>Hockey</td>\n",
              "      <td>1422</td>\n",
              "    </tr>\n",
              "    <tr>\n",
              "      <th>138</th>\n",
              "      <td>Team Competition</td>\n",
              "      <td>1147</td>\n",
              "    </tr>\n",
              "    <tr>\n",
              "      <th>327</th>\n",
              "      <td>Basketball</td>\n",
              "      <td>1012</td>\n",
              "    </tr>\n",
              "    <tr>\n",
              "      <th>337</th>\n",
              "      <td>Handball</td>\n",
              "      <td>973</td>\n",
              "    </tr>\n",
              "  </tbody>\n",
              "</table>\n",
              "</div>"
            ],
            "text/plain": [
              "               Events  No. of Players\n",
              "80           Football            1497\n",
              "176            Hockey            1422\n",
              "138  Team Competition            1147\n",
              "327        Basketball            1012\n",
              "337          Handball             973"
            ]
          },
          "metadata": {},
          "execution_count": 49
        }
      ]
    },
    {
      "cell_type": "code",
      "metadata": {
        "id": "fu89ZeYoYLTZ",
        "colab": {
          "base_uri": "https://localhost:8080/",
          "height": 594
        },
        "outputId": "544f3470-3da5-4696-8d41-e1dadefe91f1"
      },
      "source": [
        "data4.plot(x=\"Events\",y=\"No. of Players\",color=\"Green\",kind=\"bar\",figsize=(15,8))"
      ],
      "execution_count": 52,
      "outputs": [
        {
          "output_type": "execute_result",
          "data": {
            "text/plain": [
              "<matplotlib.axes._subplots.AxesSubplot at 0x7ff3c5871b90>"
            ]
          },
          "metadata": {},
          "execution_count": 52
        },
        {
          "output_type": "display_data",
          "data": {
            "image/png": "[encoded data removed]",
            "text/plain": [
              "<Figure size 1080x576 with 1 Axes>"
            ]
          },
          "metadata": {
            "needs_background": "light"
          }
        }
      ]
    },
    {
      "cell_type": "markdown",
      "metadata": {
        "id": "4kmFFd5FYLTZ"
      },
      "source": [
        "### 8. Which sport is having most female Gold Medalists? (Top 5)"
      ]
    },
    {
      "cell_type": "markdown",
      "metadata": {
        "id": "LVZ-9CVSqDBM"
      },
      "source": [
        "##### A. Find the data where MEDAL IS GOLD.\n",
        "##### B. Find the data where GOLD medal is won by WOMEN by using Gender Column.\n",
        "##### C. Group them on the basis of in the SPORT won.\n",
        "##### D. Sort them in DESCENDING ORDER based on NUMBER OF GOLD MEDALS in each SPORT."
      ]
    },
    {
      "cell_type": "code",
      "metadata": {
        "id": "tGef1RZ8YLTa",
        "colab": {
          "base_uri": "https://localhost:8080/",
          "height": 417
        },
        "outputId": "3efd8213-52cb-4418-8321-e624594be808"
      },
      "source": [
        "df3=df[df[\"Medal\"]==\"Gold\"].copy()\n",
        "df3=df3[df3[\"Gender\"]==\"Women\"].copy()\n",
        "df3"
      ],
      "execution_count": 53,
      "outputs": [
        {
          "output_type": "execute_result",
          "data": {
            "text/html": [
              "<div>\n",
              "<style scoped>\n",
              "    .dataframe tbody tr th:only-of-type {\n",
              "        vertical-align: middle;\n",
              "    }\n",
              "\n",
              "    .dataframe tbody tr th {\n",
              "        vertical-align: top;\n",
              "    }\n",
              "\n",
              "    .dataframe thead th {\n",
              "        text-align: right;\n",
              "    }\n",
              "</style>\n",
              "<table border=\"1\" class=\"dataframe\">\n",
              "  <thead>\n",
              "    <tr style=\"text-align: right;\">\n",
              "      <th></th>\n",
              "      <th>Year</th>\n",
              "      <th>City</th>\n",
              "      <th>Sport</th>\n",
              "      <th>Discipline</th>\n",
              "      <th>Athlete</th>\n",
              "      <th>Country</th>\n",
              "      <th>Gender</th>\n",
              "      <th>Event</th>\n",
              "      <th>Medal</th>\n",
              "    </tr>\n",
              "  </thead>\n",
              "  <tbody>\n",
              "    <tr>\n",
              "      <th>417</th>\n",
              "      <td>1900</td>\n",
              "      <td>Paris</td>\n",
              "      <td>Golf</td>\n",
              "      <td>Golf</td>\n",
              "      <td>ABBOTT, Margaret Ives</td>\n",
              "      <td>USA</td>\n",
              "      <td>Women</td>\n",
              "      <td>Individual</td>\n",
              "      <td>Gold</td>\n",
              "    </tr>\n",
              "    <tr>\n",
              "      <th>641</th>\n",
              "      <td>1900</td>\n",
              "      <td>Paris</td>\n",
              "      <td>Tennis</td>\n",
              "      <td>Tennis</td>\n",
              "      <td>COOPER, Charlotte</td>\n",
              "      <td>GBR</td>\n",
              "      <td>Women</td>\n",
              "      <td>Mixed Doubles</td>\n",
              "      <td>Gold</td>\n",
              "    </tr>\n",
              "    <tr>\n",
              "      <th>649</th>\n",
              "      <td>1900</td>\n",
              "      <td>Paris</td>\n",
              "      <td>Tennis</td>\n",
              "      <td>Tennis</td>\n",
              "      <td>COOPER, Charlotte</td>\n",
              "      <td>GBR</td>\n",
              "      <td>Women</td>\n",
              "      <td>Singles</td>\n",
              "      <td>Gold</td>\n",
              "    </tr>\n",
              "    <tr>\n",
              "      <th>710</th>\n",
              "      <td>1904</td>\n",
              "      <td>St Louis</td>\n",
              "      <td>Archery</td>\n",
              "      <td>Archery</td>\n",
              "      <td>HOWELL, Matilda Scott</td>\n",
              "      <td>USA</td>\n",
              "      <td>Women</td>\n",
              "      <td>Double Columbia Round (50Y - 40Y - 30Y)</td>\n",
              "      <td>Gold</td>\n",
              "    </tr>\n",
              "    <tr>\n",
              "      <th>713</th>\n",
              "      <td>1904</td>\n",
              "      <td>St Louis</td>\n",
              "      <td>Archery</td>\n",
              "      <td>Archery</td>\n",
              "      <td>HOWELL, Matilda Scott</td>\n",
              "      <td>USA</td>\n",
              "      <td>Women</td>\n",
              "      <td>Double National Round (60Y - 50Y)</td>\n",
              "      <td>Gold</td>\n",
              "    </tr>\n",
              "    <tr>\n",
              "      <th>...</th>\n",
              "      <td>...</td>\n",
              "      <td>...</td>\n",
              "      <td>...</td>\n",
              "      <td>...</td>\n",
              "      <td>...</td>\n",
              "      <td>...</td>\n",
              "      <td>...</td>\n",
              "      <td>...</td>\n",
              "      <td>...</td>\n",
              "    </tr>\n",
              "    <tr>\n",
              "      <th>31081</th>\n",
              "      <td>2012</td>\n",
              "      <td>London</td>\n",
              "      <td>Weightlifting</td>\n",
              "      <td>Weightlifting</td>\n",
              "      <td>VALENTIN PEREZ, Lidia</td>\n",
              "      <td>ESP</td>\n",
              "      <td>Women</td>\n",
              "      <td>75KG</td>\n",
              "      <td>Gold</td>\n",
              "    </tr>\n",
              "    <tr>\n",
              "      <th>31097</th>\n",
              "      <td>2012</td>\n",
              "      <td>London</td>\n",
              "      <td>Wrestling</td>\n",
              "      <td>Wrestling Freestyle</td>\n",
              "      <td>OBARA, Hitomi</td>\n",
              "      <td>JPN</td>\n",
              "      <td>Women</td>\n",
              "      <td>Wf 48 KG</td>\n",
              "      <td>Gold</td>\n",
              "    </tr>\n",
              "    <tr>\n",
              "      <th>31105</th>\n",
              "      <td>2012</td>\n",
              "      <td>London</td>\n",
              "      <td>Wrestling</td>\n",
              "      <td>Wrestling Freestyle</td>\n",
              "      <td>YOSHIDA, Saori</td>\n",
              "      <td>JPN</td>\n",
              "      <td>Women</td>\n",
              "      <td>Wf 55 KG</td>\n",
              "      <td>Gold</td>\n",
              "    </tr>\n",
              "    <tr>\n",
              "      <th>31113</th>\n",
              "      <td>2012</td>\n",
              "      <td>London</td>\n",
              "      <td>Wrestling</td>\n",
              "      <td>Wrestling Freestyle</td>\n",
              "      <td>ICHO, Kaori</td>\n",
              "      <td>JPN</td>\n",
              "      <td>Women</td>\n",
              "      <td>Wf 63 KG</td>\n",
              "      <td>Gold</td>\n",
              "    </tr>\n",
              "    <tr>\n",
              "      <th>31121</th>\n",
              "      <td>2012</td>\n",
              "      <td>London</td>\n",
              "      <td>Wrestling</td>\n",
              "      <td>Wrestling Freestyle</td>\n",
              "      <td>VOROBIEVA, Natalia</td>\n",
              "      <td>RUS</td>\n",
              "      <td>Women</td>\n",
              "      <td>Wf 72 KG</td>\n",
              "      <td>Gold</td>\n",
              "    </tr>\n",
              "  </tbody>\n",
              "</table>\n",
              "<p>2788 rows × 9 columns</p>\n",
              "</div>"
            ],
            "text/plain": [
              "       Year      City  ...                                    Event Medal\n",
              "417    1900     Paris  ...                               Individual  Gold\n",
              "641    1900     Paris  ...                            Mixed Doubles  Gold\n",
              "649    1900     Paris  ...                                  Singles  Gold\n",
              "710    1904  St Louis  ...  Double Columbia Round (50Y - 40Y - 30Y)  Gold\n",
              "713    1904  St Louis  ...        Double National Round (60Y - 50Y)  Gold\n",
              "...     ...       ...  ...                                      ...   ...\n",
              "31081  2012    London  ...                                     75KG  Gold\n",
              "31097  2012    London  ...                                 Wf 48 KG  Gold\n",
              "31105  2012    London  ...                                 Wf 55 KG  Gold\n",
              "31113  2012    London  ...                                 Wf 63 KG  Gold\n",
              "31121  2012    London  ...                                 Wf 72 KG  Gold\n",
              "\n",
              "[2788 rows x 9 columns]"
            ]
          },
          "metadata": {},
          "execution_count": 53
        }
      ]
    },
    {
      "cell_type": "code",
      "metadata": {
        "id": "GIubA3MwYLTa",
        "colab": {
          "base_uri": "https://localhost:8080/",
          "height": 203
        },
        "outputId": "ba5d94c4-5254-41fa-f05a-6ce6fdf463da"
      },
      "source": [
        "data4=[]\n",
        "for sport in df3[\"Sport\"].unique():\n",
        "    data4.append([sport,len(df3[df3[\"Sport\"]==sport])])\n",
        "    \n",
        "data4=pd.DataFrame(data4,columns=[\"Sport\",\"Female(Wons Gold)\"]).sort_values(by=\"Female(Wons Gold)\",ascending=False).head()\n",
        "data4"
      ],
      "execution_count": 54,
      "outputs": [
        {
          "output_type": "execute_result",
          "data": {
            "text/html": [
              "<div>\n",
              "<style scoped>\n",
              "    .dataframe tbody tr th:only-of-type {\n",
              "        vertical-align: middle;\n",
              "    }\n",
              "\n",
              "    .dataframe tbody tr th {\n",
              "        vertical-align: top;\n",
              "    }\n",
              "\n",
              "    .dataframe thead th {\n",
              "        text-align: right;\n",
              "    }\n",
              "</style>\n",
              "<table border=\"1\" class=\"dataframe\">\n",
              "  <thead>\n",
              "    <tr style=\"text-align: right;\">\n",
              "      <th></th>\n",
              "      <th>Sport</th>\n",
              "      <th>Female(Wons Gold)</th>\n",
              "    </tr>\n",
              "  </thead>\n",
              "  <tbody>\n",
              "    <tr>\n",
              "      <th>4</th>\n",
              "      <td>Aquatics</td>\n",
              "      <td>589</td>\n",
              "    </tr>\n",
              "    <tr>\n",
              "      <th>7</th>\n",
              "      <td>Athletics</td>\n",
              "      <td>389</td>\n",
              "    </tr>\n",
              "    <tr>\n",
              "      <th>8</th>\n",
              "      <td>Gymnastics</td>\n",
              "      <td>268</td>\n",
              "    </tr>\n",
              "    <tr>\n",
              "      <th>14</th>\n",
              "      <td>Rowing</td>\n",
              "      <td>217</td>\n",
              "    </tr>\n",
              "    <tr>\n",
              "      <th>11</th>\n",
              "      <td>Volleyball</td>\n",
              "      <td>166</td>\n",
              "    </tr>\n",
              "  </tbody>\n",
              "</table>\n",
              "</div>"
            ],
            "text/plain": [
              "         Sport  Female(Wons Gold)\n",
              "4     Aquatics                589\n",
              "7    Athletics                389\n",
              "8   Gymnastics                268\n",
              "14      Rowing                217\n",
              "11  Volleyball                166"
            ]
          },
          "metadata": {},
          "execution_count": 54
        }
      ]
    },
    {
      "cell_type": "code",
      "metadata": {
        "id": "ObGifcb5YLTb",
        "colab": {
          "base_uri": "https://localhost:8080/",
          "height": 399
        },
        "outputId": "6a86aed3-cd69-4539-bbe7-92e8037dc0e3"
      },
      "source": [
        "data4.plot(x=\"Sport\",y=\"Female(Wons Gold)\",kind='bar',color='Gold',figsize=(10,5))"
      ],
      "execution_count": 56,
      "outputs": [
        {
          "output_type": "execute_result",
          "data": {
            "text/plain": [
              "<matplotlib.axes._subplots.AxesSubplot at 0x7ff3c57660d0>"
            ]
          },
          "metadata": {},
          "execution_count": 56
        },
        {
          "output_type": "display_data",
          "data": {
            "image/png": "[encoded data removed]",
            "text/plain": [
              "<Figure size 720x360 with 1 Axes>"
            ]
          },
          "metadata": {
            "needs_background": "light"
          }
        }
      ]
    }
  ]
}